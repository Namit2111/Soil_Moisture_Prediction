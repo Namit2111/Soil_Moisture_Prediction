{
  "cells": [
    {
      "cell_type": "markdown",
      "source": [
        "Loading Files"
      ],
      "metadata": {
        "id": "TAqwbzgZAaTB"
      }
    },
    {
      "cell_type": "code",
      "execution_count": 3,
      "metadata": {
        "id": "OOS1-kPW1JYe"
      },
      "outputs": [],
      "source": [
        "import numpy as np\n",
        "import matplotlib.pyplot as plt\n",
        "import pandas as pd\n",
        "import seaborn as sns\n",
        "\n",
        "df1 = pd.read_csv('user2_data.csv',header=[0])\n",
        "df2 = pd.read_csv('user1_data.csv',header=[0])\n",
        "\n"
      ]
    },
    {
      "cell_type": "markdown",
      "source": [
        "Data Operations"
      ],
      "metadata": {
        "id": "X8kE0U8MAvbd"
      }
    },
    {
      "cell_type": "code",
      "source": [
        "# Convert the timestamp column to datetime format\n",
        "df1['timestamp'] = pd.to_datetime(df1['ttime'])\n",
        "df2['timestamp'] = pd.to_datetime(df2['ttime'])"
      ],
      "metadata": {
        "id": "G1YEDbPzAZT4"
      },
      "execution_count": 4,
      "outputs": []
    },
    {
      "cell_type": "code",
      "source": [
        "#removing old format and setting new one\n",
        "df1.drop(['ttime'],axis=1,inplace=True)\n",
        "df2.drop(['ttime'],axis=1,inplace=True)\n",
        "\n",
        "df1.set_index('timestamp', inplace=True)\n",
        "df2.set_index('timestamp', inplace=True)"
      ],
      "metadata": {
        "id": "-e5j_rwYA02D"
      },
      "execution_count": 5,
      "outputs": []
    },
    {
      "cell_type": "code",
      "source": [
        "# Resample the data to a common time interval (every 5 minutes)\n",
        "df1_resampled = df1.resample('5T').mean()\n",
        "df2_resampled = df2.resample('5T').mean()"
      ],
      "metadata": {
        "id": "balID82VBBW3"
      },
      "execution_count": 6,
      "outputs": []
    },
    {
      "cell_type": "code",
      "source": [
        "# Merge the two datasets based on the timestamp column\n",
        "merged_df = pd.merge(df1_resampled, df2_resampled, on='timestamp')\n",
        "merged_df.to_csv(\"new_data.csv\")"
      ],
      "metadata": {
        "id": "W-7j7ZNRBE9m"
      },
      "execution_count": 7,
      "outputs": []
    },
    {
      "cell_type": "markdown",
      "source": [
        "Data Cleaning"
      ],
      "metadata": {
        "id": "0vxUgwWiBGX-"
      }
    },
    {
      "cell_type": "code",
      "source": [
        "df = pd.read_csv('new_data.csv',header=[0])"
      ],
      "metadata": {
        "id": "Y0zjep5ABd38"
      },
      "execution_count": 8,
      "outputs": []
    },
    {
      "cell_type": "code",
      "source": [
        "#converting in unix timestamp  \n",
        "df['new_time'] = df['timestamp'].apply(lambda x: pd.Timestamp(x).timestamp())\n",
        "df.drop(['timestamp'],axis=1,inplace=True)"
      ],
      "metadata": {
        "id": "C7wR8fjeBGB7"
      },
      "execution_count": 9,
      "outputs": []
    },
    {
      "cell_type": "code",
      "source": [
        "df= df.replace(-99,np.nan)\n",
        "df=df.dropna()"
      ],
      "metadata": {
        "id": "2tzX3-Et7j5D"
      },
      "execution_count": 10,
      "outputs": []
    },
    {
      "cell_type": "code",
      "execution_count": 11,
      "metadata": {
        "id": "wsvkMNJK1JYg",
        "outputId": "278ac08f-878c-4a20-a337-f8ecbfe407e0",
        "colab": {
          "base_uri": "https://localhost:8080/"
        }
      },
      "outputs": [
        {
          "output_type": "execute_result",
          "data": {
            "text/plain": [
              "Index(['pm1_x', 'pm2_x', 'pm3_x', 'am_x', 'sm_x', 'lum_x', 'temp', 'humd',\n",
              "       'pres', 'pm1_y', 'pm2_y', 'pm3_y', 'am_y', 'sm_y', 'st', 'lum_y',\n",
              "       'new_time'],\n",
              "      dtype='object')"
            ]
          },
          "metadata": {},
          "execution_count": 11
        }
      ],
      "source": [
        "df.columns"
      ]
    },
    {
      "cell_type": "code",
      "execution_count": 12,
      "metadata": {
        "id": "7N-wg1Zl1JYh",
        "outputId": "d0c87ce8-50dc-41a8-c43b-f77b57ce07d5",
        "colab": {
          "base_uri": "https://localhost:8080/",
          "height": 270
        }
      },
      "outputs": [
        {
          "output_type": "execute_result",
          "data": {
            "text/plain": [
              "   pm1_x  pm2_x  pm3_x  am_x    sm_x    lum_x   temp   humd      pres  pm1_y  \\\n",
              "0   1.39   0.00   0.00   0.0  7576.0  10249.0  23.47  88.37  92848.31   3.63   \n",
              "1   1.95   0.00   0.00   0.0  7576.0  12636.0  23.64  85.26  92844.82   4.19   \n",
              "2   2.51   0.00   0.00   0.0  7463.0   8318.0  23.62  85.93  92834.94   4.74   \n",
              "3   0.55   2.51   2.51   0.0  7463.0   4149.0  23.82  86.06  92815.25   5.30   \n",
              "4   1.11   2.51   2.51   0.0  7463.0   3238.0  24.27  82.98  92820.05   0.55   \n",
              "\n",
              "   pm2_y  pm3_y  am_y    sm_y     st    lum_y      new_time  \n",
              "0    0.0    0.0   3.2  7813.0  25.65  15001.0  1.658159e+09  \n",
              "1    0.0    0.0   4.8  7692.0  25.66  13863.0  1.658159e+09  \n",
              "2    0.0    0.0   4.0  7813.0  25.67  13788.0  1.658159e+09  \n",
              "3    0.0    0.0   4.8  7813.0  25.68  14383.0  1.658160e+09  \n",
              "4    5.3    5.3   3.2  7813.0  25.69  14621.0  1.658160e+09  "
            ],
            "text/html": [
              "\n",
              "  <div id=\"df-52ad7c6d-ff68-4222-a329-6fbde519716f\">\n",
              "    <div class=\"colab-df-container\">\n",
              "      <div>\n",
              "<style scoped>\n",
              "    .dataframe tbody tr th:only-of-type {\n",
              "        vertical-align: middle;\n",
              "    }\n",
              "\n",
              "    .dataframe tbody tr th {\n",
              "        vertical-align: top;\n",
              "    }\n",
              "\n",
              "    .dataframe thead th {\n",
              "        text-align: right;\n",
              "    }\n",
              "</style>\n",
              "<table border=\"1\" class=\"dataframe\">\n",
              "  <thead>\n",
              "    <tr style=\"text-align: right;\">\n",
              "      <th></th>\n",
              "      <th>pm1_x</th>\n",
              "      <th>pm2_x</th>\n",
              "      <th>pm3_x</th>\n",
              "      <th>am_x</th>\n",
              "      <th>sm_x</th>\n",
              "      <th>lum_x</th>\n",
              "      <th>temp</th>\n",
              "      <th>humd</th>\n",
              "      <th>pres</th>\n",
              "      <th>pm1_y</th>\n",
              "      <th>pm2_y</th>\n",
              "      <th>pm3_y</th>\n",
              "      <th>am_y</th>\n",
              "      <th>sm_y</th>\n",
              "      <th>st</th>\n",
              "      <th>lum_y</th>\n",
              "      <th>new_time</th>\n",
              "    </tr>\n",
              "  </thead>\n",
              "  <tbody>\n",
              "    <tr>\n",
              "      <th>0</th>\n",
              "      <td>1.39</td>\n",
              "      <td>0.00</td>\n",
              "      <td>0.00</td>\n",
              "      <td>0.0</td>\n",
              "      <td>7576.0</td>\n",
              "      <td>10249.0</td>\n",
              "      <td>23.47</td>\n",
              "      <td>88.37</td>\n",
              "      <td>92848.31</td>\n",
              "      <td>3.63</td>\n",
              "      <td>0.0</td>\n",
              "      <td>0.0</td>\n",
              "      <td>3.2</td>\n",
              "      <td>7813.0</td>\n",
              "      <td>25.65</td>\n",
              "      <td>15001.0</td>\n",
              "      <td>1.658159e+09</td>\n",
              "    </tr>\n",
              "    <tr>\n",
              "      <th>1</th>\n",
              "      <td>1.95</td>\n",
              "      <td>0.00</td>\n",
              "      <td>0.00</td>\n",
              "      <td>0.0</td>\n",
              "      <td>7576.0</td>\n",
              "      <td>12636.0</td>\n",
              "      <td>23.64</td>\n",
              "      <td>85.26</td>\n",
              "      <td>92844.82</td>\n",
              "      <td>4.19</td>\n",
              "      <td>0.0</td>\n",
              "      <td>0.0</td>\n",
              "      <td>4.8</td>\n",
              "      <td>7692.0</td>\n",
              "      <td>25.66</td>\n",
              "      <td>13863.0</td>\n",
              "      <td>1.658159e+09</td>\n",
              "    </tr>\n",
              "    <tr>\n",
              "      <th>2</th>\n",
              "      <td>2.51</td>\n",
              "      <td>0.00</td>\n",
              "      <td>0.00</td>\n",
              "      <td>0.0</td>\n",
              "      <td>7463.0</td>\n",
              "      <td>8318.0</td>\n",
              "      <td>23.62</td>\n",
              "      <td>85.93</td>\n",
              "      <td>92834.94</td>\n",
              "      <td>4.74</td>\n",
              "      <td>0.0</td>\n",
              "      <td>0.0</td>\n",
              "      <td>4.0</td>\n",
              "      <td>7813.0</td>\n",
              "      <td>25.67</td>\n",
              "      <td>13788.0</td>\n",
              "      <td>1.658159e+09</td>\n",
              "    </tr>\n",
              "    <tr>\n",
              "      <th>3</th>\n",
              "      <td>0.55</td>\n",
              "      <td>2.51</td>\n",
              "      <td>2.51</td>\n",
              "      <td>0.0</td>\n",
              "      <td>7463.0</td>\n",
              "      <td>4149.0</td>\n",
              "      <td>23.82</td>\n",
              "      <td>86.06</td>\n",
              "      <td>92815.25</td>\n",
              "      <td>5.30</td>\n",
              "      <td>0.0</td>\n",
              "      <td>0.0</td>\n",
              "      <td>4.8</td>\n",
              "      <td>7813.0</td>\n",
              "      <td>25.68</td>\n",
              "      <td>14383.0</td>\n",
              "      <td>1.658160e+09</td>\n",
              "    </tr>\n",
              "    <tr>\n",
              "      <th>4</th>\n",
              "      <td>1.11</td>\n",
              "      <td>2.51</td>\n",
              "      <td>2.51</td>\n",
              "      <td>0.0</td>\n",
              "      <td>7463.0</td>\n",
              "      <td>3238.0</td>\n",
              "      <td>24.27</td>\n",
              "      <td>82.98</td>\n",
              "      <td>92820.05</td>\n",
              "      <td>0.55</td>\n",
              "      <td>5.3</td>\n",
              "      <td>5.3</td>\n",
              "      <td>3.2</td>\n",
              "      <td>7813.0</td>\n",
              "      <td>25.69</td>\n",
              "      <td>14621.0</td>\n",
              "      <td>1.658160e+09</td>\n",
              "    </tr>\n",
              "  </tbody>\n",
              "</table>\n",
              "</div>\n",
              "      <button class=\"colab-df-convert\" onclick=\"convertToInteractive('df-52ad7c6d-ff68-4222-a329-6fbde519716f')\"\n",
              "              title=\"Convert this dataframe to an interactive table.\"\n",
              "              style=\"display:none;\">\n",
              "        \n",
              "  <svg xmlns=\"http://www.w3.org/2000/svg\" height=\"24px\"viewBox=\"0 0 24 24\"\n",
              "       width=\"24px\">\n",
              "    <path d=\"M0 0h24v24H0V0z\" fill=\"none\"/>\n",
              "    <path d=\"M18.56 5.44l.94 2.06.94-2.06 2.06-.94-2.06-.94-.94-2.06-.94 2.06-2.06.94zm-11 1L8.5 8.5l.94-2.06 2.06-.94-2.06-.94L8.5 2.5l-.94 2.06-2.06.94zm10 10l.94 2.06.94-2.06 2.06-.94-2.06-.94-.94-2.06-.94 2.06-2.06.94z\"/><path d=\"M17.41 7.96l-1.37-1.37c-.4-.4-.92-.59-1.43-.59-.52 0-1.04.2-1.43.59L10.3 9.45l-7.72 7.72c-.78.78-.78 2.05 0 2.83L4 21.41c.39.39.9.59 1.41.59.51 0 1.02-.2 1.41-.59l7.78-7.78 2.81-2.81c.8-.78.8-2.07 0-2.86zM5.41 20L4 18.59l7.72-7.72 1.47 1.35L5.41 20z\"/>\n",
              "  </svg>\n",
              "      </button>\n",
              "      \n",
              "  <style>\n",
              "    .colab-df-container {\n",
              "      display:flex;\n",
              "      flex-wrap:wrap;\n",
              "      gap: 12px;\n",
              "    }\n",
              "\n",
              "    .colab-df-convert {\n",
              "      background-color: #E8F0FE;\n",
              "      border: none;\n",
              "      border-radius: 50%;\n",
              "      cursor: pointer;\n",
              "      display: none;\n",
              "      fill: #1967D2;\n",
              "      height: 32px;\n",
              "      padding: 0 0 0 0;\n",
              "      width: 32px;\n",
              "    }\n",
              "\n",
              "    .colab-df-convert:hover {\n",
              "      background-color: #E2EBFA;\n",
              "      box-shadow: 0px 1px 2px rgba(60, 64, 67, 0.3), 0px 1px 3px 1px rgba(60, 64, 67, 0.15);\n",
              "      fill: #174EA6;\n",
              "    }\n",
              "\n",
              "    [theme=dark] .colab-df-convert {\n",
              "      background-color: #3B4455;\n",
              "      fill: #D2E3FC;\n",
              "    }\n",
              "\n",
              "    [theme=dark] .colab-df-convert:hover {\n",
              "      background-color: #434B5C;\n",
              "      box-shadow: 0px 1px 3px 1px rgba(0, 0, 0, 0.15);\n",
              "      filter: drop-shadow(0px 1px 2px rgba(0, 0, 0, 0.3));\n",
              "      fill: #FFFFFF;\n",
              "    }\n",
              "  </style>\n",
              "\n",
              "      <script>\n",
              "        const buttonEl =\n",
              "          document.querySelector('#df-52ad7c6d-ff68-4222-a329-6fbde519716f button.colab-df-convert');\n",
              "        buttonEl.style.display =\n",
              "          google.colab.kernel.accessAllowed ? 'block' : 'none';\n",
              "\n",
              "        async function convertToInteractive(key) {\n",
              "          const element = document.querySelector('#df-52ad7c6d-ff68-4222-a329-6fbde519716f');\n",
              "          const dataTable =\n",
              "            await google.colab.kernel.invokeFunction('convertToInteractive',\n",
              "                                                     [key], {});\n",
              "          if (!dataTable) return;\n",
              "\n",
              "          const docLinkHtml = 'Like what you see? Visit the ' +\n",
              "            '<a target=\"_blank\" href=https://colab.research.google.com/notebooks/data_table.ipynb>data table notebook</a>'\n",
              "            + ' to learn more about interactive tables.';\n",
              "          element.innerHTML = '';\n",
              "          dataTable['output_type'] = 'display_data';\n",
              "          await google.colab.output.renderOutput(dataTable, element);\n",
              "          const docLink = document.createElement('div');\n",
              "          docLink.innerHTML = docLinkHtml;\n",
              "          element.appendChild(docLink);\n",
              "        }\n",
              "      </script>\n",
              "    </div>\n",
              "  </div>\n",
              "  "
            ]
          },
          "metadata": {},
          "execution_count": 12
        }
      ],
      "source": [
        "df.head()"
      ]
    },
    {
      "cell_type": "code",
      "source": [
        "f = df.drop(['sm_x'], axis = 1)\n"
      ],
      "metadata": {
        "id": "XDWVWvJp2DXu"
      },
      "execution_count": 14,
      "outputs": []
    },
    {
      "cell_type": "code",
      "execution_count": 15,
      "metadata": {
        "id": "kK9myYW31JYi"
      },
      "outputs": [],
      "source": [
        "x = f"
      ]
    },
    {
      "cell_type": "code",
      "execution_count": 16,
      "metadata": {
        "id": "M6dG6HO51JYi"
      },
      "outputs": [],
      "source": [
        "y=df['sm_x']"
      ]
    },
    {
      "cell_type": "code",
      "execution_count": 17,
      "metadata": {
        "id": "iygnnKCQ1JYj"
      },
      "outputs": [],
      "source": [
        "# Splitting the dataset into the Training set and Test set\n",
        "from sklearn.model_selection import train_test_split\n",
        "X_train, X_test, y_train, y_test = train_test_split(x, y, test_size = 0.25, random_state = 0)\n",
        "\n",
        "# Feature Scaling"
      ]
    },
    {
      "cell_type": "code",
      "execution_count": 18,
      "metadata": {
        "id": "WvPxrY4x1JYj"
      },
      "outputs": [],
      "source": [
        "\n",
        "from sklearn.preprocessing import StandardScaler\n",
        "sc = StandardScaler()\n",
        "X_train = sc.fit_transform(X_train)\n",
        "X_test = sc.transform(X_test)"
      ]
    },
    {
      "cell_type": "code",
      "execution_count": 19,
      "metadata": {
        "scrolled": true,
        "id": "WzdzwFT41JYk",
        "colab": {
          "base_uri": "https://localhost:8080/",
          "height": 51
        },
        "outputId": "25259fd2-f5d3-46d9-8fb2-8e954d75442c"
      },
      "outputs": [
        {
          "output_type": "execute_result",
          "data": {
            "text/plain": [
              "LinearRegression()"
            ],
            "text/html": [
              "<style>#sk-container-id-1 {color: black;background-color: white;}#sk-container-id-1 pre{padding: 0;}#sk-container-id-1 div.sk-toggleable {background-color: white;}#sk-container-id-1 label.sk-toggleable__label {cursor: pointer;display: block;width: 100%;margin-bottom: 0;padding: 0.3em;box-sizing: border-box;text-align: center;}#sk-container-id-1 label.sk-toggleable__label-arrow:before {content: \"▸\";float: left;margin-right: 0.25em;color: #696969;}#sk-container-id-1 label.sk-toggleable__label-arrow:hover:before {color: black;}#sk-container-id-1 div.sk-estimator:hover label.sk-toggleable__label-arrow:before {color: black;}#sk-container-id-1 div.sk-toggleable__content {max-height: 0;max-width: 0;overflow: hidden;text-align: left;background-color: #f0f8ff;}#sk-container-id-1 div.sk-toggleable__content pre {margin: 0.2em;color: black;border-radius: 0.25em;background-color: #f0f8ff;}#sk-container-id-1 input.sk-toggleable__control:checked~div.sk-toggleable__content {max-height: 200px;max-width: 100%;overflow: auto;}#sk-container-id-1 input.sk-toggleable__control:checked~label.sk-toggleable__label-arrow:before {content: \"▾\";}#sk-container-id-1 div.sk-estimator input.sk-toggleable__control:checked~label.sk-toggleable__label {background-color: #d4ebff;}#sk-container-id-1 div.sk-label input.sk-toggleable__control:checked~label.sk-toggleable__label {background-color: #d4ebff;}#sk-container-id-1 input.sk-hidden--visually {border: 0;clip: rect(1px 1px 1px 1px);clip: rect(1px, 1px, 1px, 1px);height: 1px;margin: -1px;overflow: hidden;padding: 0;position: absolute;width: 1px;}#sk-container-id-1 div.sk-estimator {font-family: monospace;background-color: #f0f8ff;border: 1px dotted black;border-radius: 0.25em;box-sizing: border-box;margin-bottom: 0.5em;}#sk-container-id-1 div.sk-estimator:hover {background-color: #d4ebff;}#sk-container-id-1 div.sk-parallel-item::after {content: \"\";width: 100%;border-bottom: 1px solid gray;flex-grow: 1;}#sk-container-id-1 div.sk-label:hover label.sk-toggleable__label {background-color: #d4ebff;}#sk-container-id-1 div.sk-serial::before {content: \"\";position: absolute;border-left: 1px solid gray;box-sizing: border-box;top: 0;bottom: 0;left: 50%;z-index: 0;}#sk-container-id-1 div.sk-serial {display: flex;flex-direction: column;align-items: center;background-color: white;padding-right: 0.2em;padding-left: 0.2em;position: relative;}#sk-container-id-1 div.sk-item {position: relative;z-index: 1;}#sk-container-id-1 div.sk-parallel {display: flex;align-items: stretch;justify-content: center;background-color: white;position: relative;}#sk-container-id-1 div.sk-item::before, #sk-container-id-1 div.sk-parallel-item::before {content: \"\";position: absolute;border-left: 1px solid gray;box-sizing: border-box;top: 0;bottom: 0;left: 50%;z-index: -1;}#sk-container-id-1 div.sk-parallel-item {display: flex;flex-direction: column;z-index: 1;position: relative;background-color: white;}#sk-container-id-1 div.sk-parallel-item:first-child::after {align-self: flex-end;width: 50%;}#sk-container-id-1 div.sk-parallel-item:last-child::after {align-self: flex-start;width: 50%;}#sk-container-id-1 div.sk-parallel-item:only-child::after {width: 0;}#sk-container-id-1 div.sk-dashed-wrapped {border: 1px dashed gray;margin: 0 0.4em 0.5em 0.4em;box-sizing: border-box;padding-bottom: 0.4em;background-color: white;}#sk-container-id-1 div.sk-label label {font-family: monospace;font-weight: bold;display: inline-block;line-height: 1.2em;}#sk-container-id-1 div.sk-label-container {text-align: center;}#sk-container-id-1 div.sk-container {/* jupyter's `normalize.less` sets `[hidden] { display: none; }` but bootstrap.min.css set `[hidden] { display: none !important; }` so we also need the `!important` here to be able to override the default hidden behavior on the sphinx rendered scikit-learn.org. See: https://github.com/scikit-learn/scikit-learn/issues/21755 */display: inline-block !important;position: relative;}#sk-container-id-1 div.sk-text-repr-fallback {display: none;}</style><div id=\"sk-container-id-1\" class=\"sk-top-container\"><div class=\"sk-text-repr-fallback\"><pre>LinearRegression()</pre><b>In a Jupyter environment, please rerun this cell to show the HTML representation or trust the notebook. <br />On GitHub, the HTML representation is unable to render, please try loading this page with nbviewer.org.</b></div><div class=\"sk-container\" hidden><div class=\"sk-item\"><div class=\"sk-estimator sk-toggleable\"><input class=\"sk-toggleable__control sk-hidden--visually\" id=\"sk-estimator-id-1\" type=\"checkbox\" checked><label for=\"sk-estimator-id-1\" class=\"sk-toggleable__label sk-toggleable__label-arrow\">LinearRegression</label><div class=\"sk-toggleable__content\"><pre>LinearRegression()</pre></div></div></div></div></div>"
            ]
          },
          "metadata": {},
          "execution_count": 19
        }
      ],
      "source": [
        "\n",
        "\n",
        "# Fitting MLR to the Training set\n",
        "from sklearn.linear_model import LinearRegression\n",
        "classifier = LinearRegression()\n",
        "classifier.fit(X_train, y_train)"
      ]
    },
    {
      "cell_type": "code",
      "execution_count": 20,
      "metadata": {
        "id": "o0zQLxiJ1JYk"
      },
      "outputs": [],
      "source": [
        "# Predicting the Test set results\n",
        "y_pred = classifier.predict(X_test)\n"
      ]
    },
    {
      "cell_type": "code",
      "execution_count": 21,
      "metadata": {
        "id": "dkkBYDvr1JYk"
      },
      "outputs": [],
      "source": [
        "def rmse(y_pred,y_true):\n",
        "    return np.sum(np.square(y_pred - y_true))/len(y_true)"
      ]
    },
    {
      "cell_type": "code",
      "execution_count": 22,
      "metadata": {
        "id": "7ZcqWtal1JYl",
        "outputId": "966c1a6e-be8d-4e98-efd7-5d18920bcaf3",
        "colab": {
          "base_uri": "https://localhost:8080/"
        }
      },
      "outputs": [
        {
          "output_type": "execute_result",
          "data": {
            "text/plain": [
              "86884.41742318806"
            ]
          },
          "metadata": {},
          "execution_count": 22
        }
      ],
      "source": [
        "rmse(y_pred,y_test.values)"
      ]
    },
    {
      "cell_type": "code",
      "execution_count": 23,
      "metadata": {
        "id": "GZLwaxV-1JYl",
        "outputId": "31c09853-7f48-45c4-b5dc-5a4959d0336a",
        "colab": {
          "base_uri": "https://localhost:8080/"
        }
      },
      "outputs": [
        {
          "output_type": "execute_result",
          "data": {
            "text/plain": [
              "7220.734610975268"
            ]
          },
          "metadata": {},
          "execution_count": 23
        }
      ],
      "source": [
        "y_pred[0]"
      ]
    }
  ],
  "metadata": {
    "kernelspec": {
      "display_name": "Python 3",
      "language": "python",
      "name": "python3"
    },
    "language_info": {
      "codemirror_mode": {
        "name": "ipython",
        "version": 3
      },
      "file_extension": ".py",
      "mimetype": "text/x-python",
      "name": "python",
      "nbconvert_exporter": "python",
      "pygments_lexer": "ipython3",
      "version": "3.7.4"
    },
    "colab": {
      "provenance": []
    }
  },
  "nbformat": 4,
  "nbformat_minor": 0
}